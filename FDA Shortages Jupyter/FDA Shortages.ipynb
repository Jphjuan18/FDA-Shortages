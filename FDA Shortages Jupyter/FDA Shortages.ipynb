{
 "cells": [
  {
   "cell_type": "code",
   "execution_count": null,
   "id": "a9bf948e",
   "metadata": {},
   "outputs": [],
   "source": [
    "import requests as req\n",
    "import pandas as pd\n",
    "import re"
   ]
  },
  {
   "cell_type": "code",
   "execution_count": null,
   "id": "216fea95",
   "metadata": {},
   "outputs": [],
   "source": [
    " #conda install -c anaconda beautifulsoup4 "
   ]
  },
  {
   "cell_type": "code",
   "execution_count": null,
   "id": "50f8c232",
   "metadata": {},
   "outputs": [],
   "source": [
    "res = req.get('https://www.accessdata.fda.gov/scripts/drugshortages/')"
   ]
  },
  {
   "cell_type": "code",
   "execution_count": null,
   "id": "36e2cbe6",
   "metadata": {},
   "outputs": [],
   "source": [
    "B_URL = 'https://www.accessdata.fda.gov/scripts/drugshortages/'"
   ]
  },
  {
   "cell_type": "code",
   "execution_count": null,
   "id": "8b9bd34d",
   "metadata": {},
   "outputs": [],
   "source": [
    "from bs4 import BeautifulSoup as bs"
   ]
  },
  {
   "cell_type": "code",
   "execution_count": null,
   "id": "389a81fb",
   "metadata": {},
   "outputs": [],
   "source": [
    "soup = bs(res.content)"
   ]
  },
  {
   "cell_type": "code",
   "execution_count": null,
   "id": "f3ec3c8a",
   "metadata": {},
   "outputs": [],
   "source": [
    "divs = soup.find_all(['tbody'])"
   ]
  },
  {
   "cell_type": "code",
   "execution_count": null,
   "id": "8b072111",
   "metadata": {},
   "outputs": [],
   "source": [
    "divs = divs[0].find_all('tr')"
   ]
  },
  {
   "cell_type": "code",
   "execution_count": null,
   "id": "6ac6f9f0",
   "metadata": {},
   "outputs": [],
   "source": [
    "print(type(soup))\n",
    "print(type(divs))\n",
    "print(len(divs))"
   ]
  },
  {
   "cell_type": "code",
   "execution_count": null,
   "id": "b090511d",
   "metadata": {},
   "outputs": [],
   "source": [
    "status_l = []"
   ]
  },
  {
   "cell_type": "code",
   "execution_count": null,
   "id": "1a7d7e56",
   "metadata": {},
   "outputs": [],
   "source": [
    "count = 0\n",
    "while count < len(divs):\n",
    "    for i in divs[count].find_all('strong'):\n",
    "        status_l.append(i)\n",
    "        count += 1\n",
    "       # print('------------')\n",
    "        #print(i)\n",
    "        #print(test)\n",
    "        #print('-----------')\n",
    "        #print(type(i))"
   ]
  },
  {
   "cell_type": "code",
   "execution_count": null,
   "id": "17d5817d",
   "metadata": {},
   "outputs": [],
   "source": [
    "status_f = []"
   ]
  },
  {
   "cell_type": "code",
   "execution_count": null,
   "id": "e966e3e3",
   "metadata": {},
   "outputs": [],
   "source": [
    "for i in status_l:\n",
    "    w = i.string.strip()\n",
    "    #print(i)\n",
    "    status_f.append(w)"
   ]
  },
  {
   "cell_type": "code",
   "execution_count": null,
   "id": "391f7542",
   "metadata": {},
   "outputs": [],
   "source": [
    "###status_f"
   ]
  },
  {
   "cell_type": "code",
   "execution_count": null,
   "id": "a50184d2",
   "metadata": {},
   "outputs": [],
   "source": [
    "href_l = []\n",
    "title_l = []"
   ]
  },
  {
   "cell_type": "code",
   "execution_count": null,
   "id": "34bf5e1a",
   "metadata": {},
   "outputs": [],
   "source": [
    "#filter out the second 'a' which included the information needed\n",
    "count = 0\n",
    "subcount = 0\n",
    "while count < len(divs):\n",
    "    for i in divs[count].find_all('a'):\n",
    "            i.find_all('a')\n",
    "            href = i.get('href')\n",
    "            href_l.append(href)\n",
    "            #print('href: ')\n",
    "            #print(href)\n",
    "            #print(count) \n",
    "            title = i.get('title')\n",
    "            title_l.append(title)\n",
    "            #print('title: ')\n",
    "            #print(title)\n",
    "            #print(count) \n",
    "            #print('\\n')\n",
    "            subcount +=1\n",
    "    if subcount == 2:\n",
    "            subcount = 0\n",
    "            count += 1"
   ]
  },
  {
   "cell_type": "code",
   "execution_count": null,
   "id": "dc9511eb",
   "metadata": {},
   "outputs": [],
   "source": [
    "href_f = []"
   ]
  },
  {
   "cell_type": "code",
   "execution_count": null,
   "id": "51415b68",
   "metadata": {},
   "outputs": [],
   "source": [
    "#filter href_l\n",
    "for i in range(1,len(divs)*2,2):\n",
    "    words = href_l[i].split(' ')\n",
    "    wordsjoin = '%20'.join(words)\n",
    "    href_f.append(wordsjoin)\n",
    "    #print(wordsjoin)\n",
    "    #print(i)\n",
    " "
   ]
  },
  {
   "cell_type": "code",
   "execution_count": null,
   "id": "d7b9427f",
   "metadata": {},
   "outputs": [],
   "source": [
    "S_URL = 'https://www.accessdata.fda.gov/scripts/drugshortages/'"
   ]
  },
  {
   "cell_type": "code",
   "execution_count": null,
   "id": "737a467a",
   "metadata": {},
   "outputs": [],
   "source": [
    "href_link = []"
   ]
  },
  {
   "cell_type": "code",
   "execution_count": null,
   "id": "c6fc7276",
   "metadata": {},
   "outputs": [],
   "source": [
    "for i in href_f: \n",
    "    href_link.append(S_URL + i)"
   ]
  },
  {
   "cell_type": "code",
   "execution_count": null,
   "id": "08b4b52f",
   "metadata": {},
   "outputs": [],
   "source": [
    "###href_link"
   ]
  },
  {
   "cell_type": "code",
   "execution_count": null,
   "id": "1e0a26e2",
   "metadata": {},
   "outputs": [],
   "source": [
    "title_f = []"
   ]
  },
  {
   "cell_type": "code",
   "execution_count": null,
   "id": "b51a9311",
   "metadata": {},
   "outputs": [],
   "source": [
    "#filter title_l\n",
    "for i in range(1,len(divs)*2,2):\n",
    "    q = title_l[i]\n",
    "    w = q.replace(' detail', '')\n",
    "    title_f.append(re.sub('Link to ', '', w))   "
   ]
  },
  {
   "cell_type": "code",
   "execution_count": null,
   "id": "ae0438a5",
   "metadata": {},
   "outputs": [],
   "source": [
    "###title_f"
   ]
  },
  {
   "cell_type": "code",
   "execution_count": null,
   "id": "18824381",
   "metadata": {},
   "outputs": [],
   "source": [
    "print(len(title_f))\n",
    "print(len(href_link))\n",
    "print(len(status_f))"
   ]
  },
  {
   "cell_type": "code",
   "execution_count": null,
   "id": "66a6a983",
   "metadata": {},
   "outputs": [],
   "source": [
    "subs = {'Drug': [], 'Link':[],'Status':[]}"
   ]
  },
  {
   "cell_type": "code",
   "execution_count": null,
   "id": "3847cdb1",
   "metadata": {},
   "outputs": [],
   "source": [
    "subs['Drug'] = title_f\n",
    "subs['Link'] = href_link\n",
    "subs['Status'] = status_f"
   ]
  },
  {
   "cell_type": "code",
   "execution_count": null,
   "id": "ee60545d",
   "metadata": {},
   "outputs": [],
   "source": [
    "#Create a new dataframe\n",
    "sub_df = pd.DataFrame(subs, columns=['Drug','Link','Status'])"
   ]
  },
  {
   "cell_type": "code",
   "execution_count": 135,
   "id": "4625a386",
   "metadata": {},
   "outputs": [
    {
     "data": {
      "text/html": [
       "<div>\n",
       "<style scoped>\n",
       "    .dataframe tbody tr th:only-of-type {\n",
       "        vertical-align: middle;\n",
       "    }\n",
       "\n",
       "    .dataframe tbody tr th {\n",
       "        vertical-align: top;\n",
       "    }\n",
       "\n",
       "    .dataframe thead th {\n",
       "        text-align: right;\n",
       "    }\n",
       "</style>\n",
       "<table border=\"1\" class=\"dataframe\">\n",
       "  <thead>\n",
       "    <tr style=\"text-align: right;\">\n",
       "      <th></th>\n",
       "      <th>Drug</th>\n",
       "      <th>Link</th>\n",
       "      <th>Status</th>\n",
       "    </tr>\n",
       "  </thead>\n",
       "  <tbody>\n",
       "    <tr>\n",
       "      <th>0</th>\n",
       "      <td>Acetazolamide Injection</td>\n",
       "      <td>https://www.accessdata.fda.gov/scripts/drugsho...</td>\n",
       "      <td>Currently in Shortage</td>\n",
       "    </tr>\n",
       "    <tr>\n",
       "      <th>1</th>\n",
       "      <td>Amifostine Injection</td>\n",
       "      <td>https://www.accessdata.fda.gov/scripts/drugsho...</td>\n",
       "      <td>Currently in Shortage</td>\n",
       "    </tr>\n",
       "    <tr>\n",
       "      <th>2</th>\n",
       "      <td>Amino Acids</td>\n",
       "      <td>https://www.accessdata.fda.gov/scripts/drugsho...</td>\n",
       "      <td>Currently in Shortage</td>\n",
       "    </tr>\n",
       "    <tr>\n",
       "      <th>3</th>\n",
       "      <td>Amoxapine Tablets</td>\n",
       "      <td>https://www.accessdata.fda.gov/scripts/drugsho...</td>\n",
       "      <td>Currently in Shortage</td>\n",
       "    </tr>\n",
       "    <tr>\n",
       "      <th>4</th>\n",
       "      <td>Amphetamine Aspartate; Amphetamine Sulfate; De...</td>\n",
       "      <td>https://www.accessdata.fda.gov/scripts/drugsho...</td>\n",
       "      <td>Currently in Shortage</td>\n",
       "    </tr>\n",
       "    <tr>\n",
       "      <th>...</th>\n",
       "      <td>...</td>\n",
       "      <td>...</td>\n",
       "      <td>...</td>\n",
       "    </tr>\n",
       "    <tr>\n",
       "      <th>163</th>\n",
       "      <td>Varenicline Tartrate (Chantix) Tablets</td>\n",
       "      <td>https://www.accessdata.fda.gov/scripts/drugsho...</td>\n",
       "      <td>Currently in Shortage</td>\n",
       "    </tr>\n",
       "    <tr>\n",
       "      <th>164</th>\n",
       "      <td>Vecuronium Bromide for Injection</td>\n",
       "      <td>https://www.accessdata.fda.gov/scripts/drugsho...</td>\n",
       "      <td>Currently in Shortage</td>\n",
       "    </tr>\n",
       "    <tr>\n",
       "      <th>165</th>\n",
       "      <td>Vitamin A Palmitate (Aquasol A) Injection</td>\n",
       "      <td>https://www.accessdata.fda.gov/scripts/drugsho...</td>\n",
       "      <td>Currently in Shortage</td>\n",
       "    </tr>\n",
       "    <tr>\n",
       "      <th>166</th>\n",
       "      <td>Zinc Acetate Capsules</td>\n",
       "      <td>https://www.accessdata.fda.gov/scripts/drugsho...</td>\n",
       "      <td>Resolved</td>\n",
       "    </tr>\n",
       "    <tr>\n",
       "      <th>167</th>\n",
       "      <td>Zolpidem Tartrate (Edluar) Sublingual Tablets</td>\n",
       "      <td>https://www.accessdata.fda.gov/scripts/drugsho...</td>\n",
       "      <td>Resolved</td>\n",
       "    </tr>\n",
       "  </tbody>\n",
       "</table>\n",
       "<p>168 rows × 3 columns</p>\n",
       "</div>"
      ],
      "text/plain": [
       "                                                  Drug  \\\n",
       "0                              Acetazolamide Injection   \n",
       "1                                 Amifostine Injection   \n",
       "2                                          Amino Acids   \n",
       "3                                    Amoxapine Tablets   \n",
       "4    Amphetamine Aspartate; Amphetamine Sulfate; De...   \n",
       "..                                                 ...   \n",
       "163             Varenicline Tartrate (Chantix) Tablets   \n",
       "164                   Vecuronium Bromide for Injection   \n",
       "165          Vitamin A Palmitate (Aquasol A) Injection   \n",
       "166                              Zinc Acetate Capsules   \n",
       "167      Zolpidem Tartrate (Edluar) Sublingual Tablets   \n",
       "\n",
       "                                                  Link                 Status  \n",
       "0    https://www.accessdata.fda.gov/scripts/drugsho...  Currently in Shortage  \n",
       "1    https://www.accessdata.fda.gov/scripts/drugsho...  Currently in Shortage  \n",
       "2    https://www.accessdata.fda.gov/scripts/drugsho...  Currently in Shortage  \n",
       "3    https://www.accessdata.fda.gov/scripts/drugsho...  Currently in Shortage  \n",
       "4    https://www.accessdata.fda.gov/scripts/drugsho...  Currently in Shortage  \n",
       "..                                                 ...                    ...  \n",
       "163  https://www.accessdata.fda.gov/scripts/drugsho...  Currently in Shortage  \n",
       "164  https://www.accessdata.fda.gov/scripts/drugsho...  Currently in Shortage  \n",
       "165  https://www.accessdata.fda.gov/scripts/drugsho...  Currently in Shortage  \n",
       "166  https://www.accessdata.fda.gov/scripts/drugsho...               Resolved  \n",
       "167  https://www.accessdata.fda.gov/scripts/drugsho...               Resolved  \n",
       "\n",
       "[168 rows x 3 columns]"
      ]
     },
     "metadata": {},
     "output_type": "display_data"
    }
   ],
   "source": [
    "display(sub_df)"
   ]
  },
  {
   "cell_type": "code",
   "execution_count": null,
   "id": "bfe09dc8",
   "metadata": {},
   "outputs": [],
   "source": [
    "#pip install mysql-connector-python\n",
    "sub_df.info()"
   ]
  },
  {
   "cell_type": "code",
   "execution_count": null,
   "id": "cfd81a42",
   "metadata": {},
   "outputs": [],
   "source": [
    "#pip install PyMySQL"
   ]
  },
  {
   "cell_type": "code",
   "execution_count": null,
   "id": "b4121c1c",
   "metadata": {},
   "outputs": [],
   "source": []
  },
  {
   "cell_type": "code",
   "execution_count": 117,
   "id": "ee6d1222",
   "metadata": {},
   "outputs": [],
   "source": [
    "import pymysql\n",
    "\n",
    "# Connect to the database\n",
    "cnx = pymysql.connect(host='localhost',\n",
    "                         user='root',\n",
    "                         password='',\n",
    "                         db='fda')\n",
    "# create cursor\n",
    "cursor=cnx.cursor()\n",
    "#cnx.close()"
   ]
  },
  {
   "cell_type": "code",
   "execution_count": 118,
   "id": "7b73fda5",
   "metadata": {},
   "outputs": [
    {
     "name": "stdout",
     "output_type": "stream",
     "text": [
      "8.0.28\n"
     ]
    }
   ],
   "source": [
    "db_Info = cnx.get_server_info()\n",
    "print(db_Info)\n",
    "#cursor.execute(\"CREATE TABLE shortages (Drug VARCHAR(255), Link VARCHAR(255), Status VARCHAR(255))\")"
   ]
  },
  {
   "cell_type": "code",
   "execution_count": 121,
   "id": "c1e81df0",
   "metadata": {},
   "outputs": [
    {
     "data": {
      "text/plain": [
       "0"
      ]
     },
     "execution_count": 121,
     "metadata": {},
     "output_type": "execute_result"
    }
   ],
   "source": [
    "cursor.execute(\"ALTER TABLE shortages ADD PRIMARY KEY (Drug)\")\n",
    "\n"
   ]
  },
  {
   "cell_type": "code",
   "execution_count": 123,
   "id": "3b170a15",
   "metadata": {},
   "outputs": [
    {
     "name": "stdout",
     "output_type": "stream",
     "text": [
      "('Drug', 'varchar(255)', 'NO', 'PRI', None, '')\n",
      "('Link', 'varchar(255)', 'YES', '', None, '')\n",
      "('Status', 'varchar(255)', 'YES', '', None, '')\n"
     ]
    }
   ],
   "source": [
    "cursor.execute('DESCRIBE shortages')\n",
    "for x in cursor:\n",
    "    print(x)"
   ]
  },
  {
   "cell_type": "code",
   "execution_count": 131,
   "id": "1b707a1b",
   "metadata": {},
   "outputs": [],
   "source": [
    "#cursor.execute(\"DELETE FROM shortages WHERE Status = 'Currently in Shortage'\")\n",
    "#cnx.commit()"
   ]
  },
  {
   "cell_type": "code",
   "execution_count": 127,
   "id": "d9a701ae",
   "metadata": {},
   "outputs": [
    {
     "ename": "IntegrityError",
     "evalue": "(1062, \"Duplicate entry 'Acetazolamide Injection' for key 'shortages.PRIMARY'\")",
     "output_type": "error",
     "traceback": [
      "\u001b[0;31m---------------------------------------------------------------------------\u001b[0m",
      "\u001b[0;31mIntegrityError\u001b[0m                            Traceback (most recent call last)",
      "\u001b[0;32m/var/folders/by/2b2gkbxs5_5fgxc6m1r9j9pr0000gn/T/ipykernel_48006/3247446725.py\u001b[0m in \u001b[0;36m<module>\u001b[0;34m\u001b[0m\n\u001b[1;32m      5\u001b[0m \u001b[0;32mfor\u001b[0m \u001b[0mi\u001b[0m\u001b[0;34m,\u001b[0m\u001b[0mrow\u001b[0m \u001b[0;32min\u001b[0m \u001b[0msub_df\u001b[0m\u001b[0;34m[\u001b[0m\u001b[0;36m0\u001b[0m\u001b[0;34m:\u001b[0m\u001b[0;36m21\u001b[0m\u001b[0;34m]\u001b[0m\u001b[0;34m.\u001b[0m\u001b[0miterrows\u001b[0m\u001b[0;34m(\u001b[0m\u001b[0;34m)\u001b[0m\u001b[0;34m:\u001b[0m\u001b[0;34m\u001b[0m\u001b[0;34m\u001b[0m\u001b[0m\n\u001b[1;32m      6\u001b[0m     \u001b[0msql\u001b[0m \u001b[0;34m=\u001b[0m \u001b[0;34m\"INSERT INTO `shortages` (`\"\u001b[0m \u001b[0;34m+\u001b[0m\u001b[0mcols\u001b[0m \u001b[0;34m+\u001b[0m \u001b[0;34m\"`) VALUES (\"\u001b[0m \u001b[0;34m+\u001b[0m \u001b[0;34m\"%s,\"\u001b[0m\u001b[0;34m*\u001b[0m\u001b[0;34m(\u001b[0m\u001b[0mlen\u001b[0m\u001b[0;34m(\u001b[0m\u001b[0mrow\u001b[0m\u001b[0;34m)\u001b[0m\u001b[0;34m-\u001b[0m\u001b[0;36m1\u001b[0m\u001b[0;34m)\u001b[0m \u001b[0;34m+\u001b[0m \u001b[0;34m\"%s)\"\u001b[0m\u001b[0;34m\u001b[0m\u001b[0;34m\u001b[0m\u001b[0m\n\u001b[0;32m----> 7\u001b[0;31m     \u001b[0mcursor\u001b[0m\u001b[0;34m.\u001b[0m\u001b[0mexecute\u001b[0m\u001b[0;34m(\u001b[0m\u001b[0msql\u001b[0m\u001b[0;34m,\u001b[0m \u001b[0mtuple\u001b[0m\u001b[0;34m(\u001b[0m\u001b[0mrow\u001b[0m\u001b[0;34m)\u001b[0m\u001b[0;34m)\u001b[0m\u001b[0;34m\u001b[0m\u001b[0;34m\u001b[0m\u001b[0m\n\u001b[0m\u001b[1;32m      8\u001b[0m     \u001b[0;31m#print(sql)\u001b[0m\u001b[0;34m\u001b[0m\u001b[0;34m\u001b[0m\u001b[0m\n\u001b[1;32m      9\u001b[0m     \u001b[0;31m#print(row)\u001b[0m\u001b[0;34m\u001b[0m\u001b[0;34m\u001b[0m\u001b[0m\n",
      "\u001b[0;32m~/opt/anaconda3/lib/python3.9/site-packages/pymysql/cursors.py\u001b[0m in \u001b[0;36mexecute\u001b[0;34m(self, query, args)\u001b[0m\n\u001b[1;32m    146\u001b[0m         \u001b[0mquery\u001b[0m \u001b[0;34m=\u001b[0m \u001b[0mself\u001b[0m\u001b[0;34m.\u001b[0m\u001b[0mmogrify\u001b[0m\u001b[0;34m(\u001b[0m\u001b[0mquery\u001b[0m\u001b[0;34m,\u001b[0m \u001b[0margs\u001b[0m\u001b[0;34m)\u001b[0m\u001b[0;34m\u001b[0m\u001b[0;34m\u001b[0m\u001b[0m\n\u001b[1;32m    147\u001b[0m \u001b[0;34m\u001b[0m\u001b[0m\n\u001b[0;32m--> 148\u001b[0;31m         \u001b[0mresult\u001b[0m \u001b[0;34m=\u001b[0m \u001b[0mself\u001b[0m\u001b[0;34m.\u001b[0m\u001b[0m_query\u001b[0m\u001b[0;34m(\u001b[0m\u001b[0mquery\u001b[0m\u001b[0;34m)\u001b[0m\u001b[0;34m\u001b[0m\u001b[0;34m\u001b[0m\u001b[0m\n\u001b[0m\u001b[1;32m    149\u001b[0m         \u001b[0mself\u001b[0m\u001b[0;34m.\u001b[0m\u001b[0m_executed\u001b[0m \u001b[0;34m=\u001b[0m \u001b[0mquery\u001b[0m\u001b[0;34m\u001b[0m\u001b[0;34m\u001b[0m\u001b[0m\n\u001b[1;32m    150\u001b[0m         \u001b[0;32mreturn\u001b[0m \u001b[0mresult\u001b[0m\u001b[0;34m\u001b[0m\u001b[0;34m\u001b[0m\u001b[0m\n",
      "\u001b[0;32m~/opt/anaconda3/lib/python3.9/site-packages/pymysql/cursors.py\u001b[0m in \u001b[0;36m_query\u001b[0;34m(self, q)\u001b[0m\n\u001b[1;32m    308\u001b[0m         \u001b[0mself\u001b[0m\u001b[0;34m.\u001b[0m\u001b[0m_last_executed\u001b[0m \u001b[0;34m=\u001b[0m \u001b[0mq\u001b[0m\u001b[0;34m\u001b[0m\u001b[0;34m\u001b[0m\u001b[0m\n\u001b[1;32m    309\u001b[0m         \u001b[0mself\u001b[0m\u001b[0;34m.\u001b[0m\u001b[0m_clear_result\u001b[0m\u001b[0;34m(\u001b[0m\u001b[0;34m)\u001b[0m\u001b[0;34m\u001b[0m\u001b[0;34m\u001b[0m\u001b[0m\n\u001b[0;32m--> 310\u001b[0;31m         \u001b[0mconn\u001b[0m\u001b[0;34m.\u001b[0m\u001b[0mquery\u001b[0m\u001b[0;34m(\u001b[0m\u001b[0mq\u001b[0m\u001b[0;34m)\u001b[0m\u001b[0;34m\u001b[0m\u001b[0;34m\u001b[0m\u001b[0m\n\u001b[0m\u001b[1;32m    311\u001b[0m         \u001b[0mself\u001b[0m\u001b[0;34m.\u001b[0m\u001b[0m_do_get_result\u001b[0m\u001b[0;34m(\u001b[0m\u001b[0;34m)\u001b[0m\u001b[0;34m\u001b[0m\u001b[0;34m\u001b[0m\u001b[0m\n\u001b[1;32m    312\u001b[0m         \u001b[0;32mreturn\u001b[0m \u001b[0mself\u001b[0m\u001b[0;34m.\u001b[0m\u001b[0mrowcount\u001b[0m\u001b[0;34m\u001b[0m\u001b[0;34m\u001b[0m\u001b[0m\n",
      "\u001b[0;32m~/opt/anaconda3/lib/python3.9/site-packages/pymysql/connections.py\u001b[0m in \u001b[0;36mquery\u001b[0;34m(self, sql, unbuffered)\u001b[0m\n\u001b[1;32m    546\u001b[0m             \u001b[0msql\u001b[0m \u001b[0;34m=\u001b[0m \u001b[0msql\u001b[0m\u001b[0;34m.\u001b[0m\u001b[0mencode\u001b[0m\u001b[0;34m(\u001b[0m\u001b[0mself\u001b[0m\u001b[0;34m.\u001b[0m\u001b[0mencoding\u001b[0m\u001b[0;34m,\u001b[0m \u001b[0;34m\"surrogateescape\"\u001b[0m\u001b[0;34m)\u001b[0m\u001b[0;34m\u001b[0m\u001b[0;34m\u001b[0m\u001b[0m\n\u001b[1;32m    547\u001b[0m         \u001b[0mself\u001b[0m\u001b[0;34m.\u001b[0m\u001b[0m_execute_command\u001b[0m\u001b[0;34m(\u001b[0m\u001b[0mCOMMAND\u001b[0m\u001b[0;34m.\u001b[0m\u001b[0mCOM_QUERY\u001b[0m\u001b[0;34m,\u001b[0m \u001b[0msql\u001b[0m\u001b[0;34m)\u001b[0m\u001b[0;34m\u001b[0m\u001b[0;34m\u001b[0m\u001b[0m\n\u001b[0;32m--> 548\u001b[0;31m         \u001b[0mself\u001b[0m\u001b[0;34m.\u001b[0m\u001b[0m_affected_rows\u001b[0m \u001b[0;34m=\u001b[0m \u001b[0mself\u001b[0m\u001b[0;34m.\u001b[0m\u001b[0m_read_query_result\u001b[0m\u001b[0;34m(\u001b[0m\u001b[0munbuffered\u001b[0m\u001b[0;34m=\u001b[0m\u001b[0munbuffered\u001b[0m\u001b[0;34m)\u001b[0m\u001b[0;34m\u001b[0m\u001b[0;34m\u001b[0m\u001b[0m\n\u001b[0m\u001b[1;32m    549\u001b[0m         \u001b[0;32mreturn\u001b[0m \u001b[0mself\u001b[0m\u001b[0;34m.\u001b[0m\u001b[0m_affected_rows\u001b[0m\u001b[0;34m\u001b[0m\u001b[0;34m\u001b[0m\u001b[0m\n\u001b[1;32m    550\u001b[0m \u001b[0;34m\u001b[0m\u001b[0m\n",
      "\u001b[0;32m~/opt/anaconda3/lib/python3.9/site-packages/pymysql/connections.py\u001b[0m in \u001b[0;36m_read_query_result\u001b[0;34m(self, unbuffered)\u001b[0m\n\u001b[1;32m    773\u001b[0m         \u001b[0;32melse\u001b[0m\u001b[0;34m:\u001b[0m\u001b[0;34m\u001b[0m\u001b[0;34m\u001b[0m\u001b[0m\n\u001b[1;32m    774\u001b[0m             \u001b[0mresult\u001b[0m \u001b[0;34m=\u001b[0m \u001b[0mMySQLResult\u001b[0m\u001b[0;34m(\u001b[0m\u001b[0mself\u001b[0m\u001b[0;34m)\u001b[0m\u001b[0;34m\u001b[0m\u001b[0;34m\u001b[0m\u001b[0m\n\u001b[0;32m--> 775\u001b[0;31m             \u001b[0mresult\u001b[0m\u001b[0;34m.\u001b[0m\u001b[0mread\u001b[0m\u001b[0;34m(\u001b[0m\u001b[0;34m)\u001b[0m\u001b[0;34m\u001b[0m\u001b[0;34m\u001b[0m\u001b[0m\n\u001b[0m\u001b[1;32m    776\u001b[0m         \u001b[0mself\u001b[0m\u001b[0;34m.\u001b[0m\u001b[0m_result\u001b[0m \u001b[0;34m=\u001b[0m \u001b[0mresult\u001b[0m\u001b[0;34m\u001b[0m\u001b[0;34m\u001b[0m\u001b[0m\n\u001b[1;32m    777\u001b[0m         \u001b[0;32mif\u001b[0m \u001b[0mresult\u001b[0m\u001b[0;34m.\u001b[0m\u001b[0mserver_status\u001b[0m \u001b[0;32mis\u001b[0m \u001b[0;32mnot\u001b[0m \u001b[0;32mNone\u001b[0m\u001b[0;34m:\u001b[0m\u001b[0;34m\u001b[0m\u001b[0;34m\u001b[0m\u001b[0m\n",
      "\u001b[0;32m~/opt/anaconda3/lib/python3.9/site-packages/pymysql/connections.py\u001b[0m in \u001b[0;36mread\u001b[0;34m(self)\u001b[0m\n\u001b[1;32m   1154\u001b[0m     \u001b[0;32mdef\u001b[0m \u001b[0mread\u001b[0m\u001b[0;34m(\u001b[0m\u001b[0mself\u001b[0m\u001b[0;34m)\u001b[0m\u001b[0;34m:\u001b[0m\u001b[0;34m\u001b[0m\u001b[0;34m\u001b[0m\u001b[0m\n\u001b[1;32m   1155\u001b[0m         \u001b[0;32mtry\u001b[0m\u001b[0;34m:\u001b[0m\u001b[0;34m\u001b[0m\u001b[0;34m\u001b[0m\u001b[0m\n\u001b[0;32m-> 1156\u001b[0;31m             \u001b[0mfirst_packet\u001b[0m \u001b[0;34m=\u001b[0m \u001b[0mself\u001b[0m\u001b[0;34m.\u001b[0m\u001b[0mconnection\u001b[0m\u001b[0;34m.\u001b[0m\u001b[0m_read_packet\u001b[0m\u001b[0;34m(\u001b[0m\u001b[0;34m)\u001b[0m\u001b[0;34m\u001b[0m\u001b[0;34m\u001b[0m\u001b[0m\n\u001b[0m\u001b[1;32m   1157\u001b[0m \u001b[0;34m\u001b[0m\u001b[0m\n\u001b[1;32m   1158\u001b[0m             \u001b[0;32mif\u001b[0m \u001b[0mfirst_packet\u001b[0m\u001b[0;34m.\u001b[0m\u001b[0mis_ok_packet\u001b[0m\u001b[0;34m(\u001b[0m\u001b[0;34m)\u001b[0m\u001b[0;34m:\u001b[0m\u001b[0;34m\u001b[0m\u001b[0;34m\u001b[0m\u001b[0m\n",
      "\u001b[0;32m~/opt/anaconda3/lib/python3.9/site-packages/pymysql/connections.py\u001b[0m in \u001b[0;36m_read_packet\u001b[0;34m(self, packet_type)\u001b[0m\n\u001b[1;32m    723\u001b[0m             \u001b[0;32mif\u001b[0m \u001b[0mself\u001b[0m\u001b[0;34m.\u001b[0m\u001b[0m_result\u001b[0m \u001b[0;32mis\u001b[0m \u001b[0;32mnot\u001b[0m \u001b[0;32mNone\u001b[0m \u001b[0;32mand\u001b[0m \u001b[0mself\u001b[0m\u001b[0;34m.\u001b[0m\u001b[0m_result\u001b[0m\u001b[0;34m.\u001b[0m\u001b[0munbuffered_active\u001b[0m \u001b[0;32mis\u001b[0m \u001b[0;32mTrue\u001b[0m\u001b[0;34m:\u001b[0m\u001b[0;34m\u001b[0m\u001b[0;34m\u001b[0m\u001b[0m\n\u001b[1;32m    724\u001b[0m                 \u001b[0mself\u001b[0m\u001b[0;34m.\u001b[0m\u001b[0m_result\u001b[0m\u001b[0;34m.\u001b[0m\u001b[0munbuffered_active\u001b[0m \u001b[0;34m=\u001b[0m \u001b[0;32mFalse\u001b[0m\u001b[0;34m\u001b[0m\u001b[0;34m\u001b[0m\u001b[0m\n\u001b[0;32m--> 725\u001b[0;31m             \u001b[0mpacket\u001b[0m\u001b[0;34m.\u001b[0m\u001b[0mraise_for_error\u001b[0m\u001b[0;34m(\u001b[0m\u001b[0;34m)\u001b[0m\u001b[0;34m\u001b[0m\u001b[0;34m\u001b[0m\u001b[0m\n\u001b[0m\u001b[1;32m    726\u001b[0m         \u001b[0;32mreturn\u001b[0m \u001b[0mpacket\u001b[0m\u001b[0;34m\u001b[0m\u001b[0;34m\u001b[0m\u001b[0m\n\u001b[1;32m    727\u001b[0m \u001b[0;34m\u001b[0m\u001b[0m\n",
      "\u001b[0;32m~/opt/anaconda3/lib/python3.9/site-packages/pymysql/protocol.py\u001b[0m in \u001b[0;36mraise_for_error\u001b[0;34m(self)\u001b[0m\n\u001b[1;32m    219\u001b[0m         \u001b[0;32mif\u001b[0m \u001b[0mDEBUG\u001b[0m\u001b[0;34m:\u001b[0m\u001b[0;34m\u001b[0m\u001b[0;34m\u001b[0m\u001b[0m\n\u001b[1;32m    220\u001b[0m             \u001b[0mprint\u001b[0m\u001b[0;34m(\u001b[0m\u001b[0;34m\"errno =\"\u001b[0m\u001b[0;34m,\u001b[0m \u001b[0merrno\u001b[0m\u001b[0;34m)\u001b[0m\u001b[0;34m\u001b[0m\u001b[0;34m\u001b[0m\u001b[0m\n\u001b[0;32m--> 221\u001b[0;31m         \u001b[0merr\u001b[0m\u001b[0;34m.\u001b[0m\u001b[0mraise_mysql_exception\u001b[0m\u001b[0;34m(\u001b[0m\u001b[0mself\u001b[0m\u001b[0;34m.\u001b[0m\u001b[0m_data\u001b[0m\u001b[0;34m)\u001b[0m\u001b[0;34m\u001b[0m\u001b[0;34m\u001b[0m\u001b[0m\n\u001b[0m\u001b[1;32m    222\u001b[0m \u001b[0;34m\u001b[0m\u001b[0m\n\u001b[1;32m    223\u001b[0m     \u001b[0;32mdef\u001b[0m \u001b[0mdump\u001b[0m\u001b[0;34m(\u001b[0m\u001b[0mself\u001b[0m\u001b[0;34m)\u001b[0m\u001b[0;34m:\u001b[0m\u001b[0;34m\u001b[0m\u001b[0;34m\u001b[0m\u001b[0m\n",
      "\u001b[0;32m~/opt/anaconda3/lib/python3.9/site-packages/pymysql/err.py\u001b[0m in \u001b[0;36mraise_mysql_exception\u001b[0;34m(data)\u001b[0m\n\u001b[1;32m    141\u001b[0m     \u001b[0;32mif\u001b[0m \u001b[0merrorclass\u001b[0m \u001b[0;32mis\u001b[0m \u001b[0;32mNone\u001b[0m\u001b[0;34m:\u001b[0m\u001b[0;34m\u001b[0m\u001b[0;34m\u001b[0m\u001b[0m\n\u001b[1;32m    142\u001b[0m         \u001b[0merrorclass\u001b[0m \u001b[0;34m=\u001b[0m \u001b[0mInternalError\u001b[0m \u001b[0;32mif\u001b[0m \u001b[0merrno\u001b[0m \u001b[0;34m<\u001b[0m \u001b[0;36m1000\u001b[0m \u001b[0;32melse\u001b[0m \u001b[0mOperationalError\u001b[0m\u001b[0;34m\u001b[0m\u001b[0;34m\u001b[0m\u001b[0m\n\u001b[0;32m--> 143\u001b[0;31m     \u001b[0;32mraise\u001b[0m \u001b[0merrorclass\u001b[0m\u001b[0;34m(\u001b[0m\u001b[0merrno\u001b[0m\u001b[0;34m,\u001b[0m \u001b[0merrval\u001b[0m\u001b[0;34m)\u001b[0m\u001b[0;34m\u001b[0m\u001b[0;34m\u001b[0m\u001b[0m\n\u001b[0m",
      "\u001b[0;31mIntegrityError\u001b[0m: (1062, \"Duplicate entry 'Acetazolamide Injection' for key 'shortages.PRIMARY'\")"
     ]
    }
   ],
   "source": [
    "# creating column list for insertion\n",
    "cols = \"`,`\".join([str(i) for i in sub_df[0:21].columns.tolist()])\n",
    "\n",
    "# Insert DataFrame recrds one by one.\n",
    "for i,row in sub_df[0:21].iterrows():\n",
    "    sql = \"INSERT INTO `shortages` (`\" +cols + \"`) VALUES (\" + \"%s,\"*(len(row)-1) + \"%s)\"\n",
    "    cursor.execute(sql, tuple(row))\n",
    "    #print(sql)\n",
    "    #print(row)\n",
    "\n",
    "    # the connection is not autocommitted by default, so we must commit to save our changes\n",
    "    cnx.commit()"
   ]
  },
  {
   "cell_type": "code",
   "execution_count": null,
   "id": "8f8d892e",
   "metadata": {},
   "outputs": [],
   "source": [
    "# creating column list for insertion\n",
    "cols = \"`,`\".join([str(i) for i in sub_df[0:21].columns.tolist()])\n",
    "\n",
    "# Insert DataFrame recrds one by one.\n",
    "for i,row in sub_df[0:21].iterrows():\n",
    "    sql = \"INSERT INTO `shortages` (`\" +cols + \"`) VALUES (\" + \"%s,\"*(len(row)-1) + \"%s)\"\n",
    "    cursor.execute(sql, tuple(row))\n",
    "    #print(sql)\n",
    "    #print(row)\n",
    "\n",
    "    # the connection is not autocommitted by default, so we must commit to save our changes\n",
    "    cnx.commit()"
   ]
  },
  {
   "cell_type": "code",
   "execution_count": 125,
   "id": "dc33ca52",
   "metadata": {},
   "outputs": [
    {
     "name": "stdout",
     "output_type": "stream",
     "text": [
      "('Anagrelide Hydrochloride Capsules', 'https://www.accessdata.fda.gov/scripts/drugshortages/dsp_ActiveIngredientDetails.cfm?AI=Anagrelide%20Hydrochloride%20Capsules&st=r&tab=tabs-1', 'Resolved')\n",
      "('Atropine Sulfate Ophthalmic Ointment', 'https://www.accessdata.fda.gov/scripts/drugshortages/dsp_ActiveIngredientDetails.cfm?AI=Atropine%20Sulfate%20Ophthalmic%20Ointment&st=r&tab=tabs-1', 'Resolved')\n",
      "('Calcitriol Injection 1MCG/ML', 'https://www.accessdata.fda.gov/scripts/drugshortages/dsp_ActiveIngredientDetails.cfm?AI=Calcitriol%20Injection%201MCG/ML&st=r&tab=tabs-1', 'Resolved')\n"
     ]
    }
   ],
   "source": [
    "cursor.execute(\"SELECT * FROM shortages WHERE Status = 'resolved'\")\n",
    "for x in cursor:\n",
    "    print(x)"
   ]
  },
  {
   "cell_type": "code",
   "execution_count": null,
   "id": "050864d7",
   "metadata": {},
   "outputs": [],
   "source": [
    "#from pymongo import MongoClient"
   ]
  },
  {
   "cell_type": "code",
   "execution_count": null,
   "id": "84ded808",
   "metadata": {},
   "outputs": [],
   "source": [
    "#client = MongoClient()\n",
    "#db = client['CDC']\n",
    "#collection = db['short']"
   ]
  },
  {
   "cell_type": "code",
   "execution_count": null,
   "id": "2704dcdb",
   "metadata": {},
   "outputs": [],
   "source": [
    "#sub_df.to_dict('records')"
   ]
  },
  {
   "cell_type": "code",
   "execution_count": null,
   "id": "84976b9b",
   "metadata": {},
   "outputs": [],
   "source": [
    "#collection.insert_many(sub_df.to_dict('records'))"
   ]
  }
 ],
 "metadata": {
  "interpreter": {
   "hash": "370f412194a76f5206d12fa15a737c78c736423b758eeabf0b02c996f1d51276"
  },
  "kernelspec": {
   "display_name": "Python 3.9.7 ('base')",
   "language": "python",
   "name": "python3"
  },
  "language_info": {
   "codemirror_mode": {
    "name": "ipython",
    "version": 3
   },
   "file_extension": ".py",
   "mimetype": "text/x-python",
   "name": "python",
   "nbconvert_exporter": "python",
   "pygments_lexer": "ipython3",
   "version": "3.9.7"
  }
 },
 "nbformat": 4,
 "nbformat_minor": 5
}
